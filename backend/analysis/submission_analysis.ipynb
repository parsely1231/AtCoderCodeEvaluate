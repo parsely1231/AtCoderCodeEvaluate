{
 "cells": [
  {
   "cell_type": "code",
   "execution_count": 1,
   "metadata": {},
   "outputs": [],
   "source": [
    "import pandas as pd\n",
    "import numpy as np"
   ]
  },
  {
   "cell_type": "code",
   "execution_count": 11,
   "metadata": {},
   "outputs": [],
   "source": [
    "problems = pd.read_json('./problems.json')"
   ]
  },
  {
   "cell_type": "code",
   "execution_count": 12,
   "metadata": {},
   "outputs": [
    {
     "data": {
      "text/html": [
       "<div>\n",
       "<style scoped>\n",
       "    .dataframe tbody tr th:only-of-type {\n",
       "        vertical-align: middle;\n",
       "    }\n",
       "\n",
       "    .dataframe tbody tr th {\n",
       "        vertical-align: top;\n",
       "    }\n",
       "\n",
       "    .dataframe thead th {\n",
       "        text-align: right;\n",
       "    }\n",
       "</style>\n",
       "<table border=\"1\" class=\"dataframe\">\n",
       "  <thead>\n",
       "    <tr style=\"text-align: right;\">\n",
       "      <th></th>\n",
       "      <th>id</th>\n",
       "      <th>contest_id</th>\n",
       "      <th>title</th>\n",
       "    </tr>\n",
       "  </thead>\n",
       "  <tbody>\n",
       "    <tr>\n",
       "      <th>0</th>\n",
       "      <td>abc001_1</td>\n",
       "      <td>abc001</td>\n",
       "      <td>A. 積雪深差</td>\n",
       "    </tr>\n",
       "    <tr>\n",
       "      <th>1</th>\n",
       "      <td>abc001_2</td>\n",
       "      <td>abc001</td>\n",
       "      <td>B. 視程の通報</td>\n",
       "    </tr>\n",
       "    <tr>\n",
       "      <th>2</th>\n",
       "      <td>abc001_3</td>\n",
       "      <td>abc001</td>\n",
       "      <td>C. 風力観測</td>\n",
       "    </tr>\n",
       "    <tr>\n",
       "      <th>3</th>\n",
       "      <td>abc001_4</td>\n",
       "      <td>abc001</td>\n",
       "      <td>D. 感雨時刻の整理</td>\n",
       "    </tr>\n",
       "    <tr>\n",
       "      <th>4</th>\n",
       "      <td>abc002_1</td>\n",
       "      <td>abc002</td>\n",
       "      <td>A. 正直者</td>\n",
       "    </tr>\n",
       "  </tbody>\n",
       "</table>\n",
       "</div>"
      ],
      "text/plain": [
       "         id contest_id       title\n",
       "0  abc001_1     abc001     A. 積雪深差\n",
       "1  abc001_2     abc001    B. 視程の通報\n",
       "2  abc001_3     abc001     C. 風力観測\n",
       "3  abc001_4     abc001  D. 感雨時刻の整理\n",
       "4  abc002_1     abc002      A. 正直者"
      ]
     },
     "execution_count": 12,
     "metadata": {},
     "output_type": "execute_result"
    }
   ],
   "source": [
    "problems.head()"
   ]
  },
  {
   "cell_type": "code",
   "execution_count": 13,
   "metadata": {},
   "outputs": [],
   "source": [
    "problems.to_csv('./problems.csv', header=False, index=False)"
   ]
  },
  {
   "cell_type": "code",
   "execution_count": 14,
   "metadata": {},
   "outputs": [],
   "source": [
    "contests = problems['contest_id'].unique()"
   ]
  },
  {
   "cell_type": "code",
   "execution_count": 15,
   "metadata": {},
   "outputs": [],
   "source": [
    "types = []\n",
    "for contest in contests:\n",
    "    initial = contest[:3]\n",
    "    contest_type  = ''\n",
    "    if initial == 'abc':\n",
    "        contest_type = 1\n",
    "    elif initial == 'arc':\n",
    "        contest_type = 2\n",
    "    elif initial == 'agc':\n",
    "        contest_type = 3\n",
    "    else:\n",
    "        contest_type = 4\n",
    "    \n",
    "    types.append(contest_type)"
   ]
  },
  {
   "cell_type": "code",
   "execution_count": 18,
   "metadata": {},
   "outputs": [],
   "source": [
    "contests_data.to_csv('./contests.csv', header=False, index=False)"
   ]
  },
  {
   "cell_type": "code",
   "execution_count": 16,
   "metadata": {},
   "outputs": [],
   "source": [
    "contests_data = pd.DataFrame({'id': contests, 'type': types})"
   ]
  },
  {
   "cell_type": "code",
   "execution_count": 17,
   "metadata": {},
   "outputs": [
    {
     "data": {
      "text/html": [
       "<div>\n",
       "<style scoped>\n",
       "    .dataframe tbody tr th:only-of-type {\n",
       "        vertical-align: middle;\n",
       "    }\n",
       "\n",
       "    .dataframe tbody tr th {\n",
       "        vertical-align: top;\n",
       "    }\n",
       "\n",
       "    .dataframe thead th {\n",
       "        text-align: right;\n",
       "    }\n",
       "</style>\n",
       "<table border=\"1\" class=\"dataframe\">\n",
       "  <thead>\n",
       "    <tr style=\"text-align: right;\">\n",
       "      <th></th>\n",
       "      <th>id</th>\n",
       "      <th>type</th>\n",
       "    </tr>\n",
       "  </thead>\n",
       "  <tbody>\n",
       "    <tr>\n",
       "      <th>0</th>\n",
       "      <td>abc001</td>\n",
       "      <td>1</td>\n",
       "    </tr>\n",
       "    <tr>\n",
       "      <th>1</th>\n",
       "      <td>abc002</td>\n",
       "      <td>1</td>\n",
       "    </tr>\n",
       "    <tr>\n",
       "      <th>2</th>\n",
       "      <td>abc003</td>\n",
       "      <td>1</td>\n",
       "    </tr>\n",
       "    <tr>\n",
       "      <th>3</th>\n",
       "      <td>abc004</td>\n",
       "      <td>1</td>\n",
       "    </tr>\n",
       "    <tr>\n",
       "      <th>4</th>\n",
       "      <td>abc005</td>\n",
       "      <td>1</td>\n",
       "    </tr>\n",
       "  </tbody>\n",
       "</table>\n",
       "</div>"
      ],
      "text/plain": [
       "       id  type\n",
       "0  abc001     1\n",
       "1  abc002     1\n",
       "2  abc003     1\n",
       "3  abc004     1\n",
       "4  abc005     1"
      ]
     },
     "execution_count": 17,
     "metadata": {},
     "output_type": "execute_result"
    }
   ],
   "source": [
    "contests_data.head()"
   ]
  },
  {
   "cell_type": "code",
   "execution_count": 2,
   "metadata": {},
   "outputs": [],
   "source": [
    "need_columns = ['user_id', 'problem_id', 'language', 'execution_time', 'length', 'result']\n",
    "data = pd.read_csv('./submissions.csv', usecols=need_columns)\n",
    "data = data.dropna()\n",
    "data = data.astype({'execution_time': 'int32'})"
   ]
  },
  {
   "cell_type": "code",
   "execution_count": 4,
   "metadata": {},
   "outputs": [],
   "source": [
    "# scale down for local test\n",
    "# data = data.iloc[:100000, :]\n",
    "data_ac = data[data['result'] == 'AC']"
   ]
  },
  {
   "cell_type": "code",
   "execution_count": 5,
   "metadata": {},
   "outputs": [],
   "source": [
    "list_for_exec = ['problem_id', 'language', 'execution_time']\n",
    "list_for_leng =  ['problem_id', 'language', 'length']\n",
    "data_exec = data_ac[list_for_exec]\n",
    "data_leng = data_ac[list_for_leng]"
   ]
  },
  {
   "cell_type": "code",
   "execution_count": 6,
   "metadata": {},
   "outputs": [],
   "source": [
    "group_prob_lang_exec = data_exec.groupby(['language', 'problem_id'], as_index=False)"
   ]
  },
  {
   "cell_type": "code",
   "execution_count": 7,
   "metadata": {},
   "outputs": [],
   "source": [
    "exec_statistics = group_prob_lang_exec.quantile(0.1, interpolation='higher').rename(columns={'execution_time': '10%'})\n",
    "exec_statistics['25%'] = group_prob_lang_exec.quantile(0.25, interpolation='higher')['execution_time']\n",
    "exec_statistics['50%'] =  group_prob_lang_exec.quantile(0.50, interpolation='higher')['execution_time']\n",
    "exec_statistics['75%'] =  group_prob_lang_exec.quantile(0.75, interpolation='higher')['execution_time']"
   ]
  },
  {
   "cell_type": "code",
   "execution_count": 38,
   "metadata": {},
   "outputs": [],
   "source": [
    "exec_statistics.to_csv('./exec_statistics', header=False)"
   ]
  },
  {
   "cell_type": "code",
   "execution_count": 8,
   "metadata": {},
   "outputs": [
    {
     "data": {
      "text/html": [
       "<div>\n",
       "<style scoped>\n",
       "    .dataframe tbody tr th:only-of-type {\n",
       "        vertical-align: middle;\n",
       "    }\n",
       "\n",
       "    .dataframe tbody tr th {\n",
       "        vertical-align: top;\n",
       "    }\n",
       "\n",
       "    .dataframe thead th {\n",
       "        text-align: right;\n",
       "    }\n",
       "</style>\n",
       "<table border=\"1\" class=\"dataframe\">\n",
       "  <thead>\n",
       "    <tr style=\"text-align: right;\">\n",
       "      <th></th>\n",
       "      <th>language</th>\n",
       "      <th>problem_id</th>\n",
       "      <th>10%</th>\n",
       "      <th>25%</th>\n",
       "      <th>50%</th>\n",
       "      <th>75%</th>\n",
       "    </tr>\n",
       "  </thead>\n",
       "  <tbody>\n",
       "    <tr>\n",
       "      <th>0</th>\n",
       "      <td>Ada2012 (GNAT 9.2.1)</td>\n",
       "      <td>abc162_a</td>\n",
       "      <td>4</td>\n",
       "      <td>4</td>\n",
       "      <td>4</td>\n",
       "      <td>4</td>\n",
       "    </tr>\n",
       "    <tr>\n",
       "      <th>1</th>\n",
       "      <td>Ada2012 (GNAT 9.2.1)</td>\n",
       "      <td>abc164_a</td>\n",
       "      <td>5</td>\n",
       "      <td>5</td>\n",
       "      <td>5</td>\n",
       "      <td>5</td>\n",
       "    </tr>\n",
       "    <tr>\n",
       "      <th>2</th>\n",
       "      <td>Ada2012 (GNAT 9.2.1)</td>\n",
       "      <td>abc164_b</td>\n",
       "      <td>3</td>\n",
       "      <td>3</td>\n",
       "      <td>3</td>\n",
       "      <td>3</td>\n",
       "    </tr>\n",
       "    <tr>\n",
       "      <th>3</th>\n",
       "      <td>Ada2012 (GNAT 9.2.1)</td>\n",
       "      <td>abc165_a</td>\n",
       "      <td>4</td>\n",
       "      <td>4</td>\n",
       "      <td>4</td>\n",
       "      <td>4</td>\n",
       "    </tr>\n",
       "    <tr>\n",
       "      <th>4</th>\n",
       "      <td>Awk (GNU Awk 4.1.4)</td>\n",
       "      <td>abc162_a</td>\n",
       "      <td>3</td>\n",
       "      <td>4</td>\n",
       "      <td>8</td>\n",
       "      <td>12</td>\n",
       "    </tr>\n",
       "  </tbody>\n",
       "</table>\n",
       "</div>"
      ],
      "text/plain": [
       "               language problem_id  10%  25%  50%  75%\n",
       "0  Ada2012 (GNAT 9.2.1)   abc162_a    4    4    4    4\n",
       "1  Ada2012 (GNAT 9.2.1)   abc164_a    5    5    5    5\n",
       "2  Ada2012 (GNAT 9.2.1)   abc164_b    3    3    3    3\n",
       "3  Ada2012 (GNAT 9.2.1)   abc165_a    4    4    4    4\n",
       "4   Awk (GNU Awk 4.1.4)   abc162_a    3    4    8   12"
      ]
     },
     "execution_count": 8,
     "metadata": {},
     "output_type": "execute_result"
    }
   ],
   "source": [
    "exec_statistics.head()"
   ]
  },
  {
   "cell_type": "code",
   "execution_count": 9,
   "metadata": {},
   "outputs": [],
   "source": [
    "group_prob_lang_leng = data_leng.groupby(['language', 'problem_id'], as_index=False)"
   ]
  },
  {
   "cell_type": "code",
   "execution_count": 10,
   "metadata": {},
   "outputs": [],
   "source": [
    "length_statistics = group_prob_lang_leng.quantile(0.1, interpolation='higher').rename(columns={'length': '10%'})\n",
    "length_statistics['25%'] = group_prob_lang_leng.quantile(0.25, interpolation='higher')['length']\n",
    "length_statistics['50%'] =  group_prob_lang_leng.quantile(0.50, interpolation='higher')['length']\n",
    "length_statistics['75%'] =  group_prob_lang_leng.quantile(0.75, interpolation='higher')['length']"
   ]
  },
  {
   "cell_type": "code",
   "execution_count": 11,
   "metadata": {},
   "outputs": [
    {
     "data": {
      "text/html": [
       "<div>\n",
       "<style scoped>\n",
       "    .dataframe tbody tr th:only-of-type {\n",
       "        vertical-align: middle;\n",
       "    }\n",
       "\n",
       "    .dataframe tbody tr th {\n",
       "        vertical-align: top;\n",
       "    }\n",
       "\n",
       "    .dataframe thead th {\n",
       "        text-align: right;\n",
       "    }\n",
       "</style>\n",
       "<table border=\"1\" class=\"dataframe\">\n",
       "  <thead>\n",
       "    <tr style=\"text-align: right;\">\n",
       "      <th></th>\n",
       "      <th>language</th>\n",
       "      <th>problem_id</th>\n",
       "      <th>10%</th>\n",
       "      <th>25%</th>\n",
       "      <th>50%</th>\n",
       "      <th>75%</th>\n",
       "    </tr>\n",
       "  </thead>\n",
       "  <tbody>\n",
       "    <tr>\n",
       "      <th>0</th>\n",
       "      <td>Ada2012 (GNAT 9.2.1)</td>\n",
       "      <td>abc162_a</td>\n",
       "      <td>438</td>\n",
       "      <td>438</td>\n",
       "      <td>438</td>\n",
       "      <td>438</td>\n",
       "    </tr>\n",
       "    <tr>\n",
       "      <th>1</th>\n",
       "      <td>Ada2012 (GNAT 9.2.1)</td>\n",
       "      <td>abc164_a</td>\n",
       "      <td>299</td>\n",
       "      <td>299</td>\n",
       "      <td>299</td>\n",
       "      <td>299</td>\n",
       "    </tr>\n",
       "    <tr>\n",
       "      <th>2</th>\n",
       "      <td>Ada2012 (GNAT 9.2.1)</td>\n",
       "      <td>abc164_b</td>\n",
       "      <td>483</td>\n",
       "      <td>483</td>\n",
       "      <td>483</td>\n",
       "      <td>483</td>\n",
       "    </tr>\n",
       "    <tr>\n",
       "      <th>3</th>\n",
       "      <td>Ada2012 (GNAT 9.2.1)</td>\n",
       "      <td>abc165_a</td>\n",
       "      <td>423</td>\n",
       "      <td>423</td>\n",
       "      <td>423</td>\n",
       "      <td>423</td>\n",
       "    </tr>\n",
       "    <tr>\n",
       "      <th>4</th>\n",
       "      <td>Awk (GNU Awk 4.1.4)</td>\n",
       "      <td>abc162_a</td>\n",
       "      <td>17</td>\n",
       "      <td>17</td>\n",
       "      <td>19</td>\n",
       "      <td>20</td>\n",
       "    </tr>\n",
       "  </tbody>\n",
       "</table>\n",
       "</div>"
      ],
      "text/plain": [
       "               language problem_id  10%  25%  50%  75%\n",
       "0  Ada2012 (GNAT 9.2.1)   abc162_a  438  438  438  438\n",
       "1  Ada2012 (GNAT 9.2.1)   abc164_a  299  299  299  299\n",
       "2  Ada2012 (GNAT 9.2.1)   abc164_b  483  483  483  483\n",
       "3  Ada2012 (GNAT 9.2.1)   abc165_a  423  423  423  423\n",
       "4   Awk (GNU Awk 4.1.4)   abc162_a   17   17   19   20"
      ]
     },
     "execution_count": 11,
     "metadata": {},
     "output_type": "execute_result"
    }
   ],
   "source": [
    "length_statistics.head()"
   ]
  },
  {
   "cell_type": "code",
   "execution_count": 22,
   "metadata": {},
   "outputs": [],
   "source": [
    "length_statistics.drop('min', axis=1).to_csv('./length_statistics', header=False)"
   ]
  },
  {
   "cell_type": "code",
   "execution_count": 12,
   "metadata": {},
   "outputs": [],
   "source": [
    "length_statistics['keys'] = length_statistics['language'] + length_statistics['problem_id']"
   ]
  },
  {
   "cell_type": "code",
   "execution_count": 13,
   "metadata": {},
   "outputs": [
    {
     "data": {
      "text/html": [
       "<div>\n",
       "<style scoped>\n",
       "    .dataframe tbody tr th:only-of-type {\n",
       "        vertical-align: middle;\n",
       "    }\n",
       "\n",
       "    .dataframe tbody tr th {\n",
       "        vertical-align: top;\n",
       "    }\n",
       "\n",
       "    .dataframe thead th {\n",
       "        text-align: right;\n",
       "    }\n",
       "</style>\n",
       "<table border=\"1\" class=\"dataframe\">\n",
       "  <thead>\n",
       "    <tr style=\"text-align: right;\">\n",
       "      <th></th>\n",
       "      <th>language</th>\n",
       "      <th>problem_id</th>\n",
       "      <th>10%</th>\n",
       "      <th>25%</th>\n",
       "      <th>50%</th>\n",
       "      <th>75%</th>\n",
       "      <th>keys</th>\n",
       "    </tr>\n",
       "  </thead>\n",
       "  <tbody>\n",
       "    <tr>\n",
       "      <th>0</th>\n",
       "      <td>Ada2012 (GNAT 9.2.1)</td>\n",
       "      <td>abc162_a</td>\n",
       "      <td>438</td>\n",
       "      <td>438</td>\n",
       "      <td>438</td>\n",
       "      <td>438</td>\n",
       "      <td>Ada2012 (GNAT 9.2.1)abc162_a</td>\n",
       "    </tr>\n",
       "    <tr>\n",
       "      <th>1</th>\n",
       "      <td>Ada2012 (GNAT 9.2.1)</td>\n",
       "      <td>abc164_a</td>\n",
       "      <td>299</td>\n",
       "      <td>299</td>\n",
       "      <td>299</td>\n",
       "      <td>299</td>\n",
       "      <td>Ada2012 (GNAT 9.2.1)abc164_a</td>\n",
       "    </tr>\n",
       "    <tr>\n",
       "      <th>2</th>\n",
       "      <td>Ada2012 (GNAT 9.2.1)</td>\n",
       "      <td>abc164_b</td>\n",
       "      <td>483</td>\n",
       "      <td>483</td>\n",
       "      <td>483</td>\n",
       "      <td>483</td>\n",
       "      <td>Ada2012 (GNAT 9.2.1)abc164_b</td>\n",
       "    </tr>\n",
       "    <tr>\n",
       "      <th>3</th>\n",
       "      <td>Ada2012 (GNAT 9.2.1)</td>\n",
       "      <td>abc165_a</td>\n",
       "      <td>423</td>\n",
       "      <td>423</td>\n",
       "      <td>423</td>\n",
       "      <td>423</td>\n",
       "      <td>Ada2012 (GNAT 9.2.1)abc165_a</td>\n",
       "    </tr>\n",
       "    <tr>\n",
       "      <th>4</th>\n",
       "      <td>Awk (GNU Awk 4.1.4)</td>\n",
       "      <td>abc162_a</td>\n",
       "      <td>17</td>\n",
       "      <td>17</td>\n",
       "      <td>19</td>\n",
       "      <td>20</td>\n",
       "      <td>Awk (GNU Awk 4.1.4)abc162_a</td>\n",
       "    </tr>\n",
       "  </tbody>\n",
       "</table>\n",
       "</div>"
      ],
      "text/plain": [
       "               language problem_id  10%  25%  50%  75%  \\\n",
       "0  Ada2012 (GNAT 9.2.1)   abc162_a  438  438  438  438   \n",
       "1  Ada2012 (GNAT 9.2.1)   abc164_a  299  299  299  299   \n",
       "2  Ada2012 (GNAT 9.2.1)   abc164_b  483  483  483  483   \n",
       "3  Ada2012 (GNAT 9.2.1)   abc165_a  423  423  423  423   \n",
       "4   Awk (GNU Awk 4.1.4)   abc162_a   17   17   19   20   \n",
       "\n",
       "                           keys  \n",
       "0  Ada2012 (GNAT 9.2.1)abc162_a  \n",
       "1  Ada2012 (GNAT 9.2.1)abc164_a  \n",
       "2  Ada2012 (GNAT 9.2.1)abc164_b  \n",
       "3  Ada2012 (GNAT 9.2.1)abc165_a  \n",
       "4   Awk (GNU Awk 4.1.4)abc162_a  "
      ]
     },
     "execution_count": 13,
     "metadata": {},
     "output_type": "execute_result"
    }
   ],
   "source": [
    "length_statistics.head()"
   ]
  },
  {
   "cell_type": "code",
   "execution_count": 14,
   "metadata": {},
   "outputs": [],
   "source": [
    "length_border_dict = length_statistics.set_index('keys').drop(['language', 'problem_id'], axis=1).to_dict(orient='index')"
   ]
  },
  {
   "cell_type": "code",
   "execution_count": 15,
   "metadata": {},
   "outputs": [],
   "source": [
    "exec_statistics['keys'] = exec_statistics['language'] + exec_statistics['problem_id']"
   ]
  },
  {
   "cell_type": "code",
   "execution_count": 16,
   "metadata": {},
   "outputs": [],
   "source": [
    "exec_border_dict = exec_statistics.set_index('keys').drop(['language', 'problem_id'], axis=1).to_dict(orient='index')"
   ]
  },
  {
   "cell_type": "code",
   "execution_count": 17,
   "metadata": {},
   "outputs": [],
   "source": [
    "def get_score_by_border(value, border):\n",
    "    if value <= border['10%']:\n",
    "        return 5\n",
    "    \n",
    "    elif value <= border['25%']:\n",
    "        return 4\n",
    "    \n",
    "    elif value <= border['50%']:\n",
    "        return 3\n",
    "    \n",
    "    elif value <= border['75%']:\n",
    "        return 2\n",
    "    \n",
    "    else:\n",
    "        return 1"
   ]
  },
  {
   "cell_type": "code",
   "execution_count": 18,
   "metadata": {},
   "outputs": [],
   "source": [
    "list_for_user_info = ['user_id', 'problem_id', 'language', 'length', 'execution_time']\n",
    "pre_user_info = data_ac[list_for_user_info]"
   ]
  },
  {
   "cell_type": "code",
   "execution_count": 19,
   "metadata": {},
   "outputs": [
    {
     "data": {
      "text/html": [
       "<div>\n",
       "<style scoped>\n",
       "    .dataframe tbody tr th:only-of-type {\n",
       "        vertical-align: middle;\n",
       "    }\n",
       "\n",
       "    .dataframe tbody tr th {\n",
       "        vertical-align: top;\n",
       "    }\n",
       "\n",
       "    .dataframe thead th {\n",
       "        text-align: right;\n",
       "    }\n",
       "</style>\n",
       "<table border=\"1\" class=\"dataframe\">\n",
       "  <thead>\n",
       "    <tr style=\"text-align: right;\">\n",
       "      <th></th>\n",
       "      <th>user_id</th>\n",
       "      <th>problem_id</th>\n",
       "      <th>language</th>\n",
       "      <th>length</th>\n",
       "      <th>execution_time</th>\n",
       "    </tr>\n",
       "  </thead>\n",
       "  <tbody>\n",
       "    <tr>\n",
       "      <th>0</th>\n",
       "      <td>i_lohas_MATCH</td>\n",
       "      <td>abc151_c</td>\n",
       "      <td>C++14 (GCC 5.4.1)</td>\n",
       "      <td>777</td>\n",
       "      <td>73</td>\n",
       "    </tr>\n",
       "    <tr>\n",
       "      <th>1</th>\n",
       "      <td>rniya</td>\n",
       "      <td>abc141_b</td>\n",
       "      <td>C++14 (GCC 5.4.1)</td>\n",
       "      <td>1002</td>\n",
       "      <td>1</td>\n",
       "    </tr>\n",
       "    <tr>\n",
       "      <th>2</th>\n",
       "      <td>naoki2016</td>\n",
       "      <td>abc067_b</td>\n",
       "      <td>C++14 (GCC 5.4.1)</td>\n",
       "      <td>598</td>\n",
       "      <td>1</td>\n",
       "    </tr>\n",
       "    <tr>\n",
       "      <th>4</th>\n",
       "      <td>t_kato</td>\n",
       "      <td>dwango2017qual_a</td>\n",
       "      <td>PyPy3 (2.4.0)</td>\n",
       "      <td>99</td>\n",
       "      <td>172</td>\n",
       "    </tr>\n",
       "    <tr>\n",
       "      <th>5</th>\n",
       "      <td>zoooma13</td>\n",
       "      <td>agc006_b</td>\n",
       "      <td>C++14 (GCC 5.4.1)</td>\n",
       "      <td>651</td>\n",
       "      <td>38</td>\n",
       "    </tr>\n",
       "  </tbody>\n",
       "</table>\n",
       "</div>"
      ],
      "text/plain": [
       "         user_id        problem_id           language  length  execution_time\n",
       "0  i_lohas_MATCH          abc151_c  C++14 (GCC 5.4.1)     777              73\n",
       "1          rniya          abc141_b  C++14 (GCC 5.4.1)    1002               1\n",
       "2      naoki2016          abc067_b  C++14 (GCC 5.4.1)     598               1\n",
       "4         t_kato  dwango2017qual_a      PyPy3 (2.4.0)      99             172\n",
       "5       zoooma13          agc006_b  C++14 (GCC 5.4.1)     651              38"
      ]
     },
     "execution_count": 19,
     "metadata": {},
     "output_type": "execute_result"
    }
   ],
   "source": [
    "pre_user_info.head()"
   ]
  },
  {
   "cell_type": "code",
   "execution_count": 20,
   "metadata": {},
   "outputs": [],
   "source": [
    "group_user_lang_prob = pre_user_info.groupby(['user_id', 'language', 'problem_id'], as_index=False)"
   ]
  },
  {
   "cell_type": "code",
   "execution_count": 21,
   "metadata": {},
   "outputs": [],
   "source": [
    "user_info = group_user_lang_prob.min()"
   ]
  },
  {
   "cell_type": "code",
   "execution_count": 22,
   "metadata": {},
   "outputs": [
    {
     "data": {
      "text/plain": [
       "27562045"
      ]
     },
     "execution_count": 22,
     "metadata": {},
     "output_type": "execute_result"
    }
   ],
   "source": [
    "user_info.size"
   ]
  },
  {
   "cell_type": "code",
   "execution_count": 23,
   "metadata": {},
   "outputs": [
    {
     "data": {
      "text/html": [
       "<div>\n",
       "<style scoped>\n",
       "    .dataframe tbody tr th:only-of-type {\n",
       "        vertical-align: middle;\n",
       "    }\n",
       "\n",
       "    .dataframe tbody tr th {\n",
       "        vertical-align: top;\n",
       "    }\n",
       "\n",
       "    .dataframe thead th {\n",
       "        text-align: right;\n",
       "    }\n",
       "</style>\n",
       "<table border=\"1\" class=\"dataframe\">\n",
       "  <thead>\n",
       "    <tr style=\"text-align: right;\">\n",
       "      <th></th>\n",
       "      <th>user_id</th>\n",
       "      <th>language</th>\n",
       "      <th>problem_id</th>\n",
       "      <th>length</th>\n",
       "      <th>execution_time</th>\n",
       "    </tr>\n",
       "  </thead>\n",
       "  <tbody>\n",
       "    <tr>\n",
       "      <th>0</th>\n",
       "      <td>0071717</td>\n",
       "      <td>Python3 (3.4.3)</td>\n",
       "      <td>abc161_b</td>\n",
       "      <td>704</td>\n",
       "      <td>17</td>\n",
       "    </tr>\n",
       "    <tr>\n",
       "      <th>1</th>\n",
       "      <td>011337</td>\n",
       "      <td>C++ (GCC 9.2.1)</td>\n",
       "      <td>abc162_a</td>\n",
       "      <td>203</td>\n",
       "      <td>2</td>\n",
       "    </tr>\n",
       "    <tr>\n",
       "      <th>2</th>\n",
       "      <td>011337</td>\n",
       "      <td>C++ (GCC 9.2.1)</td>\n",
       "      <td>abc162_b</td>\n",
       "      <td>204</td>\n",
       "      <td>7</td>\n",
       "    </tr>\n",
       "    <tr>\n",
       "      <th>3</th>\n",
       "      <td>011337</td>\n",
       "      <td>C++ (GCC 9.2.1)</td>\n",
       "      <td>abc162_c</td>\n",
       "      <td>386</td>\n",
       "      <td>346</td>\n",
       "    </tr>\n",
       "    <tr>\n",
       "      <th>4</th>\n",
       "      <td>011337</td>\n",
       "      <td>C++ (GCC 9.2.1)</td>\n",
       "      <td>abc164_a</td>\n",
       "      <td>154</td>\n",
       "      <td>7</td>\n",
       "    </tr>\n",
       "  </tbody>\n",
       "</table>\n",
       "</div>"
      ],
      "text/plain": [
       "   user_id         language problem_id  length  execution_time\n",
       "0  0071717  Python3 (3.4.3)   abc161_b     704              17\n",
       "1   011337  C++ (GCC 9.2.1)   abc162_a     203               2\n",
       "2   011337  C++ (GCC 9.2.1)   abc162_b     204               7\n",
       "3   011337  C++ (GCC 9.2.1)   abc162_c     386             346\n",
       "4   011337  C++ (GCC 9.2.1)   abc164_a     154               7"
      ]
     },
     "execution_count": 23,
     "metadata": {},
     "output_type": "execute_result"
    }
   ],
   "source": [
    "user_info.head()"
   ]
  },
  {
   "cell_type": "code",
   "execution_count": 24,
   "metadata": {},
   "outputs": [],
   "source": [
    "user_info['keys'] = user_info['language'] + user_info['problem_id']"
   ]
  },
  {
   "cell_type": "code",
   "execution_count": 25,
   "metadata": {},
   "outputs": [],
   "source": [
    "user_info['keys_length'] = user_info['keys'] + '&' + user_info['length'].astype('str')\n",
    "user_info['keys_exec'] = user_info['keys'] + '&' + user_info['execution_time'].astype('str')"
   ]
  },
  {
   "cell_type": "code",
   "execution_count": 26,
   "metadata": {},
   "outputs": [
    {
     "data": {
      "text/html": [
       "<div>\n",
       "<style scoped>\n",
       "    .dataframe tbody tr th:only-of-type {\n",
       "        vertical-align: middle;\n",
       "    }\n",
       "\n",
       "    .dataframe tbody tr th {\n",
       "        vertical-align: top;\n",
       "    }\n",
       "\n",
       "    .dataframe thead th {\n",
       "        text-align: right;\n",
       "    }\n",
       "</style>\n",
       "<table border=\"1\" class=\"dataframe\">\n",
       "  <thead>\n",
       "    <tr style=\"text-align: right;\">\n",
       "      <th></th>\n",
       "      <th>user_id</th>\n",
       "      <th>language</th>\n",
       "      <th>problem_id</th>\n",
       "      <th>length</th>\n",
       "      <th>execution_time</th>\n",
       "      <th>keys</th>\n",
       "      <th>keys_length</th>\n",
       "      <th>keys_exec</th>\n",
       "    </tr>\n",
       "  </thead>\n",
       "  <tbody>\n",
       "    <tr>\n",
       "      <th>0</th>\n",
       "      <td>0071717</td>\n",
       "      <td>Python3 (3.4.3)</td>\n",
       "      <td>abc161_b</td>\n",
       "      <td>704</td>\n",
       "      <td>17</td>\n",
       "      <td>Python3 (3.4.3)abc161_b</td>\n",
       "      <td>Python3 (3.4.3)abc161_b&amp;704</td>\n",
       "      <td>Python3 (3.4.3)abc161_b&amp;17</td>\n",
       "    </tr>\n",
       "    <tr>\n",
       "      <th>1</th>\n",
       "      <td>011337</td>\n",
       "      <td>C++ (GCC 9.2.1)</td>\n",
       "      <td>abc162_a</td>\n",
       "      <td>203</td>\n",
       "      <td>2</td>\n",
       "      <td>C++ (GCC 9.2.1)abc162_a</td>\n",
       "      <td>C++ (GCC 9.2.1)abc162_a&amp;203</td>\n",
       "      <td>C++ (GCC 9.2.1)abc162_a&amp;2</td>\n",
       "    </tr>\n",
       "    <tr>\n",
       "      <th>2</th>\n",
       "      <td>011337</td>\n",
       "      <td>C++ (GCC 9.2.1)</td>\n",
       "      <td>abc162_b</td>\n",
       "      <td>204</td>\n",
       "      <td>7</td>\n",
       "      <td>C++ (GCC 9.2.1)abc162_b</td>\n",
       "      <td>C++ (GCC 9.2.1)abc162_b&amp;204</td>\n",
       "      <td>C++ (GCC 9.2.1)abc162_b&amp;7</td>\n",
       "    </tr>\n",
       "    <tr>\n",
       "      <th>3</th>\n",
       "      <td>011337</td>\n",
       "      <td>C++ (GCC 9.2.1)</td>\n",
       "      <td>abc162_c</td>\n",
       "      <td>386</td>\n",
       "      <td>346</td>\n",
       "      <td>C++ (GCC 9.2.1)abc162_c</td>\n",
       "      <td>C++ (GCC 9.2.1)abc162_c&amp;386</td>\n",
       "      <td>C++ (GCC 9.2.1)abc162_c&amp;346</td>\n",
       "    </tr>\n",
       "    <tr>\n",
       "      <th>4</th>\n",
       "      <td>011337</td>\n",
       "      <td>C++ (GCC 9.2.1)</td>\n",
       "      <td>abc164_a</td>\n",
       "      <td>154</td>\n",
       "      <td>7</td>\n",
       "      <td>C++ (GCC 9.2.1)abc164_a</td>\n",
       "      <td>C++ (GCC 9.2.1)abc164_a&amp;154</td>\n",
       "      <td>C++ (GCC 9.2.1)abc164_a&amp;7</td>\n",
       "    </tr>\n",
       "  </tbody>\n",
       "</table>\n",
       "</div>"
      ],
      "text/plain": [
       "   user_id         language problem_id  length  execution_time  \\\n",
       "0  0071717  Python3 (3.4.3)   abc161_b     704              17   \n",
       "1   011337  C++ (GCC 9.2.1)   abc162_a     203               2   \n",
       "2   011337  C++ (GCC 9.2.1)   abc162_b     204               7   \n",
       "3   011337  C++ (GCC 9.2.1)   abc162_c     386             346   \n",
       "4   011337  C++ (GCC 9.2.1)   abc164_a     154               7   \n",
       "\n",
       "                      keys                  keys_length  \\\n",
       "0  Python3 (3.4.3)abc161_b  Python3 (3.4.3)abc161_b&704   \n",
       "1  C++ (GCC 9.2.1)abc162_a  C++ (GCC 9.2.1)abc162_a&203   \n",
       "2  C++ (GCC 9.2.1)abc162_b  C++ (GCC 9.2.1)abc162_b&204   \n",
       "3  C++ (GCC 9.2.1)abc162_c  C++ (GCC 9.2.1)abc162_c&386   \n",
       "4  C++ (GCC 9.2.1)abc164_a  C++ (GCC 9.2.1)abc164_a&154   \n",
       "\n",
       "                     keys_exec  \n",
       "0   Python3 (3.4.3)abc161_b&17  \n",
       "1    C++ (GCC 9.2.1)abc162_a&2  \n",
       "2    C++ (GCC 9.2.1)abc162_b&7  \n",
       "3  C++ (GCC 9.2.1)abc162_c&346  \n",
       "4    C++ (GCC 9.2.1)abc164_a&7  "
      ]
     },
     "execution_count": 26,
     "metadata": {},
     "output_type": "execute_result"
    }
   ],
   "source": [
    "user_info.head()"
   ]
  },
  {
   "cell_type": "code",
   "execution_count": 27,
   "metadata": {},
   "outputs": [],
   "source": [
    "def create_calcu_func(border_dict):\n",
    "    def calcurate_score(key_value):\n",
    "        key, value = key_value.split('&')\n",
    "        value = int(value)\n",
    "        border = border_dict[key]\n",
    "        score = get_score_by_border(value, border)\n",
    "        return score\n",
    "    return calcurate_score"
   ]
  },
  {
   "cell_type": "code",
   "execution_count": 28,
   "metadata": {},
   "outputs": [],
   "source": [
    "calcu_exec_score = create_calcu_func(exec_border_dict)\n",
    "calcu_length_score = create_calcu_func(length_border_dict)"
   ]
  },
  {
   "cell_type": "code",
   "execution_count": 29,
   "metadata": {},
   "outputs": [],
   "source": [
    "length_scores = user_info['keys_length'].map(calcu_length_score)\n",
    "exec_scores = user_info['keys_exec'].map(calcu_exec_score)"
   ]
  },
  {
   "cell_type": "code",
   "execution_count": 30,
   "metadata": {},
   "outputs": [],
   "source": [
    "user_info['length_score'] = length_scores"
   ]
  },
  {
   "cell_type": "code",
   "execution_count": 31,
   "metadata": {},
   "outputs": [],
   "source": [
    "user_info['exec_score'] = exec_scores"
   ]
  },
  {
   "cell_type": "code",
   "execution_count": 32,
   "metadata": {},
   "outputs": [
    {
     "data": {
      "text/html": [
       "<div>\n",
       "<style scoped>\n",
       "    .dataframe tbody tr th:only-of-type {\n",
       "        vertical-align: middle;\n",
       "    }\n",
       "\n",
       "    .dataframe tbody tr th {\n",
       "        vertical-align: top;\n",
       "    }\n",
       "\n",
       "    .dataframe thead th {\n",
       "        text-align: right;\n",
       "    }\n",
       "</style>\n",
       "<table border=\"1\" class=\"dataframe\">\n",
       "  <thead>\n",
       "    <tr style=\"text-align: right;\">\n",
       "      <th></th>\n",
       "      <th>user_id</th>\n",
       "      <th>language</th>\n",
       "      <th>problem_id</th>\n",
       "      <th>length</th>\n",
       "      <th>execution_time</th>\n",
       "      <th>keys</th>\n",
       "      <th>keys_length</th>\n",
       "      <th>keys_exec</th>\n",
       "      <th>length_score</th>\n",
       "      <th>exec_score</th>\n",
       "    </tr>\n",
       "  </thead>\n",
       "  <tbody>\n",
       "    <tr>\n",
       "      <th>0</th>\n",
       "      <td>0071717</td>\n",
       "      <td>Python3 (3.4.3)</td>\n",
       "      <td>abc161_b</td>\n",
       "      <td>704</td>\n",
       "      <td>17</td>\n",
       "      <td>Python3 (3.4.3)abc161_b</td>\n",
       "      <td>Python3 (3.4.3)abc161_b&amp;704</td>\n",
       "      <td>Python3 (3.4.3)abc161_b&amp;17</td>\n",
       "      <td>1</td>\n",
       "      <td>5</td>\n",
       "    </tr>\n",
       "    <tr>\n",
       "      <th>1</th>\n",
       "      <td>011337</td>\n",
       "      <td>C++ (GCC 9.2.1)</td>\n",
       "      <td>abc162_a</td>\n",
       "      <td>203</td>\n",
       "      <td>2</td>\n",
       "      <td>C++ (GCC 9.2.1)abc162_a</td>\n",
       "      <td>C++ (GCC 9.2.1)abc162_a&amp;203</td>\n",
       "      <td>C++ (GCC 9.2.1)abc162_a&amp;2</td>\n",
       "      <td>5</td>\n",
       "      <td>5</td>\n",
       "    </tr>\n",
       "    <tr>\n",
       "      <th>2</th>\n",
       "      <td>011337</td>\n",
       "      <td>C++ (GCC 9.2.1)</td>\n",
       "      <td>abc162_b</td>\n",
       "      <td>204</td>\n",
       "      <td>7</td>\n",
       "      <td>C++ (GCC 9.2.1)abc162_b</td>\n",
       "      <td>C++ (GCC 9.2.1)abc162_b&amp;204</td>\n",
       "      <td>C++ (GCC 9.2.1)abc162_b&amp;7</td>\n",
       "      <td>5</td>\n",
       "      <td>2</td>\n",
       "    </tr>\n",
       "    <tr>\n",
       "      <th>3</th>\n",
       "      <td>011337</td>\n",
       "      <td>C++ (GCC 9.2.1)</td>\n",
       "      <td>abc162_c</td>\n",
       "      <td>386</td>\n",
       "      <td>346</td>\n",
       "      <td>C++ (GCC 9.2.1)abc162_c</td>\n",
       "      <td>C++ (GCC 9.2.1)abc162_c&amp;386</td>\n",
       "      <td>C++ (GCC 9.2.1)abc162_c&amp;346</td>\n",
       "      <td>4</td>\n",
       "      <td>2</td>\n",
       "    </tr>\n",
       "    <tr>\n",
       "      <th>4</th>\n",
       "      <td>011337</td>\n",
       "      <td>C++ (GCC 9.2.1)</td>\n",
       "      <td>abc164_a</td>\n",
       "      <td>154</td>\n",
       "      <td>7</td>\n",
       "      <td>C++ (GCC 9.2.1)abc164_a</td>\n",
       "      <td>C++ (GCC 9.2.1)abc164_a&amp;154</td>\n",
       "      <td>C++ (GCC 9.2.1)abc164_a&amp;7</td>\n",
       "      <td>5</td>\n",
       "      <td>1</td>\n",
       "    </tr>\n",
       "  </tbody>\n",
       "</table>\n",
       "</div>"
      ],
      "text/plain": [
       "   user_id         language problem_id  length  execution_time  \\\n",
       "0  0071717  Python3 (3.4.3)   abc161_b     704              17   \n",
       "1   011337  C++ (GCC 9.2.1)   abc162_a     203               2   \n",
       "2   011337  C++ (GCC 9.2.1)   abc162_b     204               7   \n",
       "3   011337  C++ (GCC 9.2.1)   abc162_c     386             346   \n",
       "4   011337  C++ (GCC 9.2.1)   abc164_a     154               7   \n",
       "\n",
       "                      keys                  keys_length  \\\n",
       "0  Python3 (3.4.3)abc161_b  Python3 (3.4.3)abc161_b&704   \n",
       "1  C++ (GCC 9.2.1)abc162_a  C++ (GCC 9.2.1)abc162_a&203   \n",
       "2  C++ (GCC 9.2.1)abc162_b  C++ (GCC 9.2.1)abc162_b&204   \n",
       "3  C++ (GCC 9.2.1)abc162_c  C++ (GCC 9.2.1)abc162_c&386   \n",
       "4  C++ (GCC 9.2.1)abc164_a  C++ (GCC 9.2.1)abc164_a&154   \n",
       "\n",
       "                     keys_exec  length_score  exec_score  \n",
       "0   Python3 (3.4.3)abc161_b&17             1           5  \n",
       "1    C++ (GCC 9.2.1)abc162_a&2             5           5  \n",
       "2    C++ (GCC 9.2.1)abc162_b&7             5           2  \n",
       "3  C++ (GCC 9.2.1)abc162_c&346             4           2  \n",
       "4    C++ (GCC 9.2.1)abc164_a&7             5           1  "
      ]
     },
     "execution_count": 32,
     "metadata": {},
     "output_type": "execute_result"
    }
   ],
   "source": [
    "user_info.head()"
   ]
  },
  {
   "cell_type": "code",
   "execution_count": 33,
   "metadata": {},
   "outputs": [],
   "source": [
    "user_status = user_info.loc[:, ['user_id', 'language', 'length_score', 'exec_score']]"
   ]
  },
  {
   "cell_type": "code",
   "execution_count": 34,
   "metadata": {},
   "outputs": [
    {
     "data": {
      "text/html": [
       "<div>\n",
       "<style scoped>\n",
       "    .dataframe tbody tr th:only-of-type {\n",
       "        vertical-align: middle;\n",
       "    }\n",
       "\n",
       "    .dataframe tbody tr th {\n",
       "        vertical-align: top;\n",
       "    }\n",
       "\n",
       "    .dataframe thead th {\n",
       "        text-align: right;\n",
       "    }\n",
       "</style>\n",
       "<table border=\"1\" class=\"dataframe\">\n",
       "  <thead>\n",
       "    <tr style=\"text-align: right;\">\n",
       "      <th></th>\n",
       "      <th>user_id</th>\n",
       "      <th>language</th>\n",
       "      <th>length_score</th>\n",
       "      <th>exec_score</th>\n",
       "    </tr>\n",
       "  </thead>\n",
       "  <tbody>\n",
       "    <tr>\n",
       "      <th>0</th>\n",
       "      <td>0071717</td>\n",
       "      <td>Python3 (3.4.3)</td>\n",
       "      <td>1</td>\n",
       "      <td>5</td>\n",
       "    </tr>\n",
       "    <tr>\n",
       "      <th>1</th>\n",
       "      <td>011337</td>\n",
       "      <td>C++ (GCC 9.2.1)</td>\n",
       "      <td>5</td>\n",
       "      <td>5</td>\n",
       "    </tr>\n",
       "    <tr>\n",
       "      <th>2</th>\n",
       "      <td>011337</td>\n",
       "      <td>C++ (GCC 9.2.1)</td>\n",
       "      <td>5</td>\n",
       "      <td>2</td>\n",
       "    </tr>\n",
       "    <tr>\n",
       "      <th>3</th>\n",
       "      <td>011337</td>\n",
       "      <td>C++ (GCC 9.2.1)</td>\n",
       "      <td>4</td>\n",
       "      <td>2</td>\n",
       "    </tr>\n",
       "    <tr>\n",
       "      <th>4</th>\n",
       "      <td>011337</td>\n",
       "      <td>C++ (GCC 9.2.1)</td>\n",
       "      <td>5</td>\n",
       "      <td>1</td>\n",
       "    </tr>\n",
       "  </tbody>\n",
       "</table>\n",
       "</div>"
      ],
      "text/plain": [
       "   user_id         language  length_score  exec_score\n",
       "0  0071717  Python3 (3.4.3)             1           5\n",
       "1   011337  C++ (GCC 9.2.1)             5           5\n",
       "2   011337  C++ (GCC 9.2.1)             5           2\n",
       "3   011337  C++ (GCC 9.2.1)             4           2\n",
       "4   011337  C++ (GCC 9.2.1)             5           1"
      ]
     },
     "execution_count": 34,
     "metadata": {},
     "output_type": "execute_result"
    }
   ],
   "source": [
    "user_status.head()"
   ]
  },
  {
   "cell_type": "code",
   "execution_count": 35,
   "metadata": {},
   "outputs": [],
   "source": [
    "user_scores = user_status.groupby(['user_id', 'language'], as_index=False).sum()\n",
    "user_ac_count = user_status.groupby(['user_id', 'language'], as_index=False).count()"
   ]
  },
  {
   "cell_type": "code",
   "execution_count": 36,
   "metadata": {},
   "outputs": [],
   "source": [
    "user_scores['ac_count'] = user_ac_count['length_score'].values"
   ]
  },
  {
   "cell_type": "code",
   "execution_count": 37,
   "metadata": {},
   "outputs": [],
   "source": [
    "user_scores['length_ave'] = user_scores['length_score'] / user_scores['ac_count']\n",
    "user_scores['exec_ave'] = user_scores['exec_score'] / user_scores['ac_count']"
   ]
  },
  {
   "cell_type": "code",
   "execution_count": 38,
   "metadata": {},
   "outputs": [
    {
     "data": {
      "text/html": [
       "<div>\n",
       "<style scoped>\n",
       "    .dataframe tbody tr th:only-of-type {\n",
       "        vertical-align: middle;\n",
       "    }\n",
       "\n",
       "    .dataframe tbody tr th {\n",
       "        vertical-align: top;\n",
       "    }\n",
       "\n",
       "    .dataframe thead th {\n",
       "        text-align: right;\n",
       "    }\n",
       "</style>\n",
       "<table border=\"1\" class=\"dataframe\">\n",
       "  <thead>\n",
       "    <tr style=\"text-align: right;\">\n",
       "      <th></th>\n",
       "      <th>user_id</th>\n",
       "      <th>language</th>\n",
       "      <th>length_score</th>\n",
       "      <th>exec_score</th>\n",
       "      <th>ac_count</th>\n",
       "      <th>length_ave</th>\n",
       "      <th>exec_ave</th>\n",
       "    </tr>\n",
       "  </thead>\n",
       "  <tbody>\n",
       "    <tr>\n",
       "      <th>0</th>\n",
       "      <td>0071717</td>\n",
       "      <td>Python3 (3.4.3)</td>\n",
       "      <td>1</td>\n",
       "      <td>5</td>\n",
       "      <td>1</td>\n",
       "      <td>1.000000</td>\n",
       "      <td>5.000000</td>\n",
       "    </tr>\n",
       "    <tr>\n",
       "      <th>1</th>\n",
       "      <td>011337</td>\n",
       "      <td>C++ (GCC 9.2.1)</td>\n",
       "      <td>34</td>\n",
       "      <td>22</td>\n",
       "      <td>7</td>\n",
       "      <td>4.857143</td>\n",
       "      <td>3.142857</td>\n",
       "    </tr>\n",
       "    <tr>\n",
       "      <th>2</th>\n",
       "      <td>011337</td>\n",
       "      <td>C++14 (GCC 5.4.1)</td>\n",
       "      <td>34</td>\n",
       "      <td>36</td>\n",
       "      <td>8</td>\n",
       "      <td>4.250000</td>\n",
       "      <td>4.500000</td>\n",
       "    </tr>\n",
       "    <tr>\n",
       "      <th>3</th>\n",
       "      <td>04089</td>\n",
       "      <td>C (GCC 9.2.1)</td>\n",
       "      <td>5</td>\n",
       "      <td>3</td>\n",
       "      <td>2</td>\n",
       "      <td>2.500000</td>\n",
       "      <td>1.500000</td>\n",
       "    </tr>\n",
       "    <tr>\n",
       "      <th>4</th>\n",
       "      <td>04089</td>\n",
       "      <td>C++ (GCC 9.2.1)</td>\n",
       "      <td>9</td>\n",
       "      <td>4</td>\n",
       "      <td>2</td>\n",
       "      <td>4.500000</td>\n",
       "      <td>2.000000</td>\n",
       "    </tr>\n",
       "  </tbody>\n",
       "</table>\n",
       "</div>"
      ],
      "text/plain": [
       "   user_id           language  length_score  exec_score  ac_count  length_ave  \\\n",
       "0  0071717    Python3 (3.4.3)             1           5         1    1.000000   \n",
       "1   011337    C++ (GCC 9.2.1)            34          22         7    4.857143   \n",
       "2   011337  C++14 (GCC 5.4.1)            34          36         8    4.250000   \n",
       "3    04089      C (GCC 9.2.1)             5           3         2    2.500000   \n",
       "4    04089    C++ (GCC 9.2.1)             9           4         2    4.500000   \n",
       "\n",
       "   exec_ave  \n",
       "0  5.000000  \n",
       "1  3.142857  \n",
       "2  4.500000  \n",
       "3  1.500000  \n",
       "4  2.000000  "
      ]
     },
     "execution_count": 38,
     "metadata": {},
     "output_type": "execute_result"
    }
   ],
   "source": [
    "user_scores.head()"
   ]
  },
  {
   "cell_type": "code",
   "execution_count": 44,
   "metadata": {},
   "outputs": [],
   "source": [
    "user_scores.drop(['length_ave', 'exec_ave'], axis=1).to_csv('./user_rankings.csv', index=False, header=False)"
   ]
  }
 ],
 "metadata": {
  "kernelspec": {
   "display_name": "Python 3",
   "language": "python",
   "name": "python3"
  },
  "language_info": {
   "codemirror_mode": {
    "name": "ipython",
    "version": 3
   },
   "file_extension": ".py",
   "mimetype": "text/x-python",
   "name": "python",
   "nbconvert_exporter": "python",
   "pygments_lexer": "ipython3",
   "version": "3.8.2"
  }
 },
 "nbformat": 4,
 "nbformat_minor": 4
}
