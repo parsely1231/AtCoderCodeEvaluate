{
 "cells": [
  {
   "cell_type": "code",
   "execution_count": 37,
   "metadata": {},
   "outputs": [],
   "source": [
    "import pandas as pd\n",
    "import numpy as np"
   ]
  },
  {
   "cell_type": "code",
   "execution_count": 2,
   "metadata": {},
   "outputs": [],
   "source": [
    "need_columns = ['user_id', 'problem_id', 'language', 'execution_time', 'length', 'result']\n",
    "data = pd.read_csv('./submissions.csv', usecols=need_columns)\n",
    "data = data.dropna()\n",
    "data = data.astype({'execution_time': 'int32'})"
   ]
  },
  {
   "cell_type": "code",
   "execution_count": 3,
   "metadata": {},
   "outputs": [],
   "source": [
    "# scale down for local test\n",
    "data = data.iloc[:100000, :]\n",
    "data_ac = data[data['result'] == 'AC']"
   ]
  },
  {
   "cell_type": "code",
   "execution_count": 4,
   "metadata": {},
   "outputs": [],
   "source": [
    "list_for_exec = ['problem_id', 'language', 'execution_time']\n",
    "list_for_leng =  ['problem_id', 'language', 'length']\n",
    "data_exec = data_ac[list_for_exec]\n",
    "data_leng = data_ac[list_for_leng]"
   ]
  },
  {
   "cell_type": "code",
   "execution_count": 72,
   "metadata": {},
   "outputs": [],
   "source": [
    "group_prob_lang_exec = data_exec.groupby(['language', 'problem_id'], as_index=False)\n",
    "group_prob_lang_leng = data_leng.groupby(['language', 'problem_id'], as_index=False)"
   ]
  },
  {
   "cell_type": "code",
   "execution_count": 73,
   "metadata": {},
   "outputs": [],
   "source": [
    "exec_statistics = group_prob_lang_exec.min().rename(columns={'execution_time': 'min'})"
   ]
  },
  {
   "cell_type": "code",
   "execution_count": 74,
   "metadata": {},
   "outputs": [],
   "source": [
    "exec_statistics_10 =  group_prob_lang_exec.quantile(0.1, interpolation='higher')\n",
    "exec_statistics_25 =  group_prob_lang_exec.quantile(0.25, interpolation='higher')\n",
    "exec_statistics_50 =  group_prob_lang_exec.quantile(0.50, interpolation='higher')\n",
    "exec_statistics_75 =  group_prob_lang_exec.quantile(0.75, interpolation='higher')"
   ]
  },
  {
   "cell_type": "code",
   "execution_count": 75,
   "metadata": {},
   "outputs": [],
   "source": [
    "exec_statistics['10%'] = exec_statistics_10['execution_time']\n",
    "exec_statistics['25%'] = exec_statistics_25['execution_time']\n",
    "exec_statistics['50%'] = exec_statistics_50['execution_time']\n",
    "exec_statistics['75%'] = exec_statistics_75['execution_time']"
   ]
  },
  {
   "cell_type": "code",
   "execution_count": 9,
   "metadata": {},
   "outputs": [],
   "source": [
    "exec_statistics.drop('min', axis=1).to_csv('./exec_statistics', header=False)"
   ]
  },
  {
   "cell_type": "code",
   "execution_count": 18,
   "metadata": {},
   "outputs": [],
   "source": [
    "problems = pd.read_json('./problems.json')"
   ]
  },
  {
   "cell_type": "code",
   "execution_count": 19,
   "metadata": {},
   "outputs": [
    {
     "data": {
      "text/html": [
       "<div>\n",
       "<style scoped>\n",
       "    .dataframe tbody tr th:only-of-type {\n",
       "        vertical-align: middle;\n",
       "    }\n",
       "\n",
       "    .dataframe tbody tr th {\n",
       "        vertical-align: top;\n",
       "    }\n",
       "\n",
       "    .dataframe thead th {\n",
       "        text-align: right;\n",
       "    }\n",
       "</style>\n",
       "<table border=\"1\" class=\"dataframe\">\n",
       "  <thead>\n",
       "    <tr style=\"text-align: right;\">\n",
       "      <th></th>\n",
       "      <th>id</th>\n",
       "      <th>contest_id</th>\n",
       "      <th>title</th>\n",
       "    </tr>\n",
       "  </thead>\n",
       "  <tbody>\n",
       "    <tr>\n",
       "      <th>0</th>\n",
       "      <td>abc001_1</td>\n",
       "      <td>abc001</td>\n",
       "      <td>A. 積雪深差</td>\n",
       "    </tr>\n",
       "    <tr>\n",
       "      <th>1</th>\n",
       "      <td>abc001_2</td>\n",
       "      <td>abc001</td>\n",
       "      <td>B. 視程の通報</td>\n",
       "    </tr>\n",
       "    <tr>\n",
       "      <th>2</th>\n",
       "      <td>abc001_3</td>\n",
       "      <td>abc001</td>\n",
       "      <td>C. 風力観測</td>\n",
       "    </tr>\n",
       "    <tr>\n",
       "      <th>3</th>\n",
       "      <td>abc001_4</td>\n",
       "      <td>abc001</td>\n",
       "      <td>D. 感雨時刻の整理</td>\n",
       "    </tr>\n",
       "    <tr>\n",
       "      <th>4</th>\n",
       "      <td>abc002_1</td>\n",
       "      <td>abc002</td>\n",
       "      <td>A. 正直者</td>\n",
       "    </tr>\n",
       "  </tbody>\n",
       "</table>\n",
       "</div>"
      ],
      "text/plain": [
       "         id contest_id       title\n",
       "0  abc001_1     abc001     A. 積雪深差\n",
       "1  abc001_2     abc001    B. 視程の通報\n",
       "2  abc001_3     abc001     C. 風力観測\n",
       "3  abc001_4     abc001  D. 感雨時刻の整理\n",
       "4  abc002_1     abc002      A. 正直者"
      ]
     },
     "execution_count": 19,
     "metadata": {},
     "output_type": "execute_result"
    }
   ],
   "source": [
    "problems.head()"
   ]
  },
  {
   "cell_type": "code",
   "execution_count": 13,
   "metadata": {},
   "outputs": [],
   "source": [
    "problems.to_csv('./problems.csv', header=False, index=False)"
   ]
  },
  {
   "cell_type": "code",
   "execution_count": 20,
   "metadata": {},
   "outputs": [],
   "source": [
    "contests = problems['contest_id'].unique()"
   ]
  },
  {
   "cell_type": "code",
   "execution_count": 21,
   "metadata": {},
   "outputs": [],
   "source": [
    "types = []\n",
    "for contest in contests:\n",
    "    initial = contest[:3]\n",
    "    contest_type  = ''\n",
    "    if initial == 'abc':\n",
    "        contest_type = 1\n",
    "    elif initial == 'arc':\n",
    "        contest_type = 2\n",
    "    elif initial == 'agc':\n",
    "        contest_type = 3\n",
    "    else:\n",
    "        contest_type = 4\n",
    "    \n",
    "    types.append(contest_type)"
   ]
  },
  {
   "cell_type": "code",
   "execution_count": 22,
   "metadata": {},
   "outputs": [],
   "source": [
    "contests_data = pd.DataFrame({'id': contests, 'type': types})"
   ]
  },
  {
   "cell_type": "code",
   "execution_count": 23,
   "metadata": {},
   "outputs": [
    {
     "data": {
      "text/html": [
       "<div>\n",
       "<style scoped>\n",
       "    .dataframe tbody tr th:only-of-type {\n",
       "        vertical-align: middle;\n",
       "    }\n",
       "\n",
       "    .dataframe tbody tr th {\n",
       "        vertical-align: top;\n",
       "    }\n",
       "\n",
       "    .dataframe thead th {\n",
       "        text-align: right;\n",
       "    }\n",
       "</style>\n",
       "<table border=\"1\" class=\"dataframe\">\n",
       "  <thead>\n",
       "    <tr style=\"text-align: right;\">\n",
       "      <th></th>\n",
       "      <th>id</th>\n",
       "      <th>type</th>\n",
       "    </tr>\n",
       "  </thead>\n",
       "  <tbody>\n",
       "    <tr>\n",
       "      <th>0</th>\n",
       "      <td>abc001</td>\n",
       "      <td>1</td>\n",
       "    </tr>\n",
       "    <tr>\n",
       "      <th>1</th>\n",
       "      <td>abc002</td>\n",
       "      <td>1</td>\n",
       "    </tr>\n",
       "    <tr>\n",
       "      <th>2</th>\n",
       "      <td>abc003</td>\n",
       "      <td>1</td>\n",
       "    </tr>\n",
       "    <tr>\n",
       "      <th>3</th>\n",
       "      <td>abc004</td>\n",
       "      <td>1</td>\n",
       "    </tr>\n",
       "    <tr>\n",
       "      <th>4</th>\n",
       "      <td>abc005</td>\n",
       "      <td>1</td>\n",
       "    </tr>\n",
       "  </tbody>\n",
       "</table>\n",
       "</div>"
      ],
      "text/plain": [
       "       id  type\n",
       "0  abc001     1\n",
       "1  abc002     1\n",
       "2  abc003     1\n",
       "3  abc004     1\n",
       "4  abc005     1"
      ]
     },
     "execution_count": 23,
     "metadata": {},
     "output_type": "execute_result"
    }
   ],
   "source": [
    "contests_data.head()"
   ]
  },
  {
   "cell_type": "code",
   "execution_count": 18,
   "metadata": {},
   "outputs": [],
   "source": [
    "contests_data.to_csv('./contests.csv', header=False, index=False)"
   ]
  },
  {
   "cell_type": "code",
   "execution_count": 76,
   "metadata": {},
   "outputs": [],
   "source": [
    "length_statistics =  group_prob_lang_leng.min().rename(columns={'length': 'min'})"
   ]
  },
  {
   "cell_type": "code",
   "execution_count": 77,
   "metadata": {},
   "outputs": [],
   "source": [
    "length_statistics_10 =  group_prob_lang_leng.quantile(0.1, interpolation='higher')\n",
    "length_statistics_25 =  group_prob_lang_leng.quantile(0.25, interpolation='higher')\n",
    "length_statistics_50 =  group_prob_lang_leng.quantile(0.50, interpolation='higher')\n",
    "length_statistics_75 =  group_prob_lang_leng.quantile(0.75, interpolation='higher')"
   ]
  },
  {
   "cell_type": "code",
   "execution_count": 78,
   "metadata": {},
   "outputs": [],
   "source": [
    "length_statistics['10%'] = length_statistics_10['length']\n",
    "length_statistics['25%'] = length_statistics_25['length']\n",
    "length_statistics['50%'] = length_statistics_50['length']\n",
    "length_statistics['75%'] = length_statistics_75['length']"
   ]
  },
  {
   "cell_type": "code",
   "execution_count": 79,
   "metadata": {},
   "outputs": [],
   "source": [
    "length_statistics.drop('min', axis=1).to_csv('./length_statistics', header=False)"
   ]
  },
  {
   "cell_type": "code",
   "execution_count": 80,
   "metadata": {},
   "outputs": [],
   "source": [
    "list_for_user_info = ['user_id', 'problem_id', 'language', 'length', 'execution_time']\n",
    "pre_user_info = data_ac[list_for_user_info]"
   ]
  },
  {
   "cell_type": "code",
   "execution_count": 81,
   "metadata": {},
   "outputs": [
    {
     "data": {
      "text/html": [
       "<div>\n",
       "<style scoped>\n",
       "    .dataframe tbody tr th:only-of-type {\n",
       "        vertical-align: middle;\n",
       "    }\n",
       "\n",
       "    .dataframe tbody tr th {\n",
       "        vertical-align: top;\n",
       "    }\n",
       "\n",
       "    .dataframe thead th {\n",
       "        text-align: right;\n",
       "    }\n",
       "</style>\n",
       "<table border=\"1\" class=\"dataframe\">\n",
       "  <thead>\n",
       "    <tr style=\"text-align: right;\">\n",
       "      <th></th>\n",
       "      <th>user_id</th>\n",
       "      <th>problem_id</th>\n",
       "      <th>language</th>\n",
       "      <th>length</th>\n",
       "      <th>execution_time</th>\n",
       "    </tr>\n",
       "  </thead>\n",
       "  <tbody>\n",
       "    <tr>\n",
       "      <th>0</th>\n",
       "      <td>i_lohas_MATCH</td>\n",
       "      <td>abc151_c</td>\n",
       "      <td>C++14 (GCC 5.4.1)</td>\n",
       "      <td>777</td>\n",
       "      <td>73</td>\n",
       "    </tr>\n",
       "    <tr>\n",
       "      <th>1</th>\n",
       "      <td>rniya</td>\n",
       "      <td>abc141_b</td>\n",
       "      <td>C++14 (GCC 5.4.1)</td>\n",
       "      <td>1002</td>\n",
       "      <td>1</td>\n",
       "    </tr>\n",
       "    <tr>\n",
       "      <th>2</th>\n",
       "      <td>naoki2016</td>\n",
       "      <td>abc067_b</td>\n",
       "      <td>C++14 (GCC 5.4.1)</td>\n",
       "      <td>598</td>\n",
       "      <td>1</td>\n",
       "    </tr>\n",
       "    <tr>\n",
       "      <th>4</th>\n",
       "      <td>t_kato</td>\n",
       "      <td>dwango2017qual_a</td>\n",
       "      <td>PyPy3 (2.4.0)</td>\n",
       "      <td>99</td>\n",
       "      <td>172</td>\n",
       "    </tr>\n",
       "    <tr>\n",
       "      <th>5</th>\n",
       "      <td>zoooma13</td>\n",
       "      <td>agc006_b</td>\n",
       "      <td>C++14 (GCC 5.4.1)</td>\n",
       "      <td>651</td>\n",
       "      <td>38</td>\n",
       "    </tr>\n",
       "  </tbody>\n",
       "</table>\n",
       "</div>"
      ],
      "text/plain": [
       "         user_id        problem_id           language  length  execution_time\n",
       "0  i_lohas_MATCH          abc151_c  C++14 (GCC 5.4.1)     777              73\n",
       "1          rniya          abc141_b  C++14 (GCC 5.4.1)    1002               1\n",
       "2      naoki2016          abc067_b  C++14 (GCC 5.4.1)     598               1\n",
       "4         t_kato  dwango2017qual_a      PyPy3 (2.4.0)      99             172\n",
       "5       zoooma13          agc006_b  C++14 (GCC 5.4.1)     651              38"
      ]
     },
     "execution_count": 81,
     "metadata": {},
     "output_type": "execute_result"
    }
   ],
   "source": [
    "pre_user_info.head()"
   ]
  },
  {
   "cell_type": "code",
   "execution_count": 82,
   "metadata": {},
   "outputs": [],
   "source": [
    "group_user_lang_prob = pre_user_info.groupby(['user_id', 'language', 'problem_id'], as_index=False)"
   ]
  },
  {
   "cell_type": "code",
   "execution_count": 83,
   "metadata": {},
   "outputs": [],
   "source": [
    "user_info = group_user_lang_prob.min()"
   ]
  },
  {
   "cell_type": "code",
   "execution_count": 84,
   "metadata": {},
   "outputs": [
    {
     "data": {
      "text/plain": [
       "275690"
      ]
     },
     "execution_count": 84,
     "metadata": {},
     "output_type": "execute_result"
    }
   ],
   "source": [
    "user_info.size"
   ]
  },
  {
   "cell_type": "code",
   "execution_count": 85,
   "metadata": {},
   "outputs": [
    {
     "data": {
      "text/html": [
       "<div>\n",
       "<style scoped>\n",
       "    .dataframe tbody tr th:only-of-type {\n",
       "        vertical-align: middle;\n",
       "    }\n",
       "\n",
       "    .dataframe tbody tr th {\n",
       "        vertical-align: top;\n",
       "    }\n",
       "\n",
       "    .dataframe thead th {\n",
       "        text-align: right;\n",
       "    }\n",
       "</style>\n",
       "<table border=\"1\" class=\"dataframe\">\n",
       "  <thead>\n",
       "    <tr style=\"text-align: right;\">\n",
       "      <th></th>\n",
       "      <th>user_id</th>\n",
       "      <th>language</th>\n",
       "      <th>problem_id</th>\n",
       "      <th>length</th>\n",
       "      <th>execution_time</th>\n",
       "    </tr>\n",
       "  </thead>\n",
       "  <tbody>\n",
       "    <tr>\n",
       "      <th>0</th>\n",
       "      <td>714zcy</td>\n",
       "      <td>C++ (GCC 9.2.1)</td>\n",
       "      <td>abc164_a</td>\n",
       "      <td>311</td>\n",
       "      <td>2</td>\n",
       "    </tr>\n",
       "    <tr>\n",
       "      <th>1</th>\n",
       "      <td>714zcy</td>\n",
       "      <td>C++ (GCC 9.2.1)</td>\n",
       "      <td>abc164_c</td>\n",
       "      <td>369</td>\n",
       "      <td>195</td>\n",
       "    </tr>\n",
       "    <tr>\n",
       "      <th>2</th>\n",
       "      <td>A0iro</td>\n",
       "      <td>C++14 (GCC 5.4.1)</td>\n",
       "      <td>abc137_c</td>\n",
       "      <td>574</td>\n",
       "      <td>168</td>\n",
       "    </tr>\n",
       "    <tr>\n",
       "      <th>3</th>\n",
       "      <td>A1phamath</td>\n",
       "      <td>Python3 (3.4.3)</td>\n",
       "      <td>abc135_a</td>\n",
       "      <td>218</td>\n",
       "      <td>17</td>\n",
       "    </tr>\n",
       "    <tr>\n",
       "      <th>4</th>\n",
       "      <td>A1phamath</td>\n",
       "      <td>Python3 (3.4.3)</td>\n",
       "      <td>abc139_d</td>\n",
       "      <td>42</td>\n",
       "      <td>17</td>\n",
       "    </tr>\n",
       "  </tbody>\n",
       "</table>\n",
       "</div>"
      ],
      "text/plain": [
       "     user_id           language problem_id  length  execution_time\n",
       "0     714zcy    C++ (GCC 9.2.1)   abc164_a     311               2\n",
       "1     714zcy    C++ (GCC 9.2.1)   abc164_c     369             195\n",
       "2      A0iro  C++14 (GCC 5.4.1)   abc137_c     574             168\n",
       "3  A1phamath    Python3 (3.4.3)   abc135_a     218              17\n",
       "4  A1phamath    Python3 (3.4.3)   abc139_d      42              17"
      ]
     },
     "execution_count": 85,
     "metadata": {},
     "output_type": "execute_result"
    }
   ],
   "source": [
    "user_info.head()"
   ]
  },
  {
   "cell_type": "code",
   "execution_count": 19,
   "metadata": {},
   "outputs": [],
   "source": [
    "def get_score(value, border):\n",
    "    if value <= border['10%']:\n",
    "        return 5\n",
    "    \n",
    "    elif value <= border['25%']:\n",
    "        return 4\n",
    "    \n",
    "    elif value <= border['50%']:\n",
    "        return 3\n",
    "    \n",
    "    elif value <= border['75%']:\n",
    "        return 2\n",
    "    \n",
    "    else:\n",
    "        return 1"
   ]
  },
  {
   "cell_type": "code",
   "execution_count": 86,
   "metadata": {},
   "outputs": [
    {
     "data": {
      "text/html": [
       "<div>\n",
       "<style scoped>\n",
       "    .dataframe tbody tr th:only-of-type {\n",
       "        vertical-align: middle;\n",
       "    }\n",
       "\n",
       "    .dataframe tbody tr th {\n",
       "        vertical-align: top;\n",
       "    }\n",
       "\n",
       "    .dataframe thead th {\n",
       "        text-align: right;\n",
       "    }\n",
       "</style>\n",
       "<table border=\"1\" class=\"dataframe\">\n",
       "  <thead>\n",
       "    <tr style=\"text-align: right;\">\n",
       "      <th></th>\n",
       "      <th>language</th>\n",
       "      <th>problem_id</th>\n",
       "      <th>min</th>\n",
       "      <th>10%</th>\n",
       "      <th>25%</th>\n",
       "      <th>50%</th>\n",
       "      <th>75%</th>\n",
       "    </tr>\n",
       "  </thead>\n",
       "  <tbody>\n",
       "    <tr>\n",
       "      <th>0</th>\n",
       "      <td>Awk (mawk 1.3.3)</td>\n",
       "      <td>abc010_2</td>\n",
       "      <td>36</td>\n",
       "      <td>37</td>\n",
       "      <td>37</td>\n",
       "      <td>37</td>\n",
       "      <td>37</td>\n",
       "    </tr>\n",
       "    <tr>\n",
       "      <th>1</th>\n",
       "      <td>Awk (mawk 1.3.3)</td>\n",
       "      <td>abc015_1</td>\n",
       "      <td>36</td>\n",
       "      <td>36</td>\n",
       "      <td>36</td>\n",
       "      <td>36</td>\n",
       "      <td>36</td>\n",
       "    </tr>\n",
       "    <tr>\n",
       "      <th>2</th>\n",
       "      <td>Awk (mawk 1.3.3)</td>\n",
       "      <td>abc025_b</td>\n",
       "      <td>83</td>\n",
       "      <td>85</td>\n",
       "      <td>85</td>\n",
       "      <td>85</td>\n",
       "      <td>85</td>\n",
       "    </tr>\n",
       "    <tr>\n",
       "      <th>3</th>\n",
       "      <td>Awk (mawk 1.3.3)</td>\n",
       "      <td>abc026_b</td>\n",
       "      <td>67</td>\n",
       "      <td>67</td>\n",
       "      <td>67</td>\n",
       "      <td>67</td>\n",
       "      <td>67</td>\n",
       "    </tr>\n",
       "    <tr>\n",
       "      <th>4</th>\n",
       "      <td>Awk (mawk 1.3.3)</td>\n",
       "      <td>abc027_b</td>\n",
       "      <td>68</td>\n",
       "      <td>69</td>\n",
       "      <td>69</td>\n",
       "      <td>72</td>\n",
       "      <td>75</td>\n",
       "    </tr>\n",
       "  </tbody>\n",
       "</table>\n",
       "</div>"
      ],
      "text/plain": [
       "           language problem_id  min  10%  25%  50%  75%\n",
       "0  Awk (mawk 1.3.3)   abc010_2   36   37   37   37   37\n",
       "1  Awk (mawk 1.3.3)   abc015_1   36   36   36   36   36\n",
       "2  Awk (mawk 1.3.3)   abc025_b   83   85   85   85   85\n",
       "3  Awk (mawk 1.3.3)   abc026_b   67   67   67   67   67\n",
       "4  Awk (mawk 1.3.3)   abc027_b   68   69   69   72   75"
      ]
     },
     "execution_count": 86,
     "metadata": {},
     "output_type": "execute_result"
    }
   ],
   "source": [
    "length_statistics.head()"
   ]
  },
  {
   "cell_type": "code",
   "execution_count": 87,
   "metadata": {},
   "outputs": [],
   "source": [
    "length_statistics['keys'] = length_statistics['language'] + length_statistics['problem_id']"
   ]
  },
  {
   "cell_type": "code",
   "execution_count": 88,
   "metadata": {},
   "outputs": [
    {
     "data": {
      "text/html": [
       "<div>\n",
       "<style scoped>\n",
       "    .dataframe tbody tr th:only-of-type {\n",
       "        vertical-align: middle;\n",
       "    }\n",
       "\n",
       "    .dataframe tbody tr th {\n",
       "        vertical-align: top;\n",
       "    }\n",
       "\n",
       "    .dataframe thead th {\n",
       "        text-align: right;\n",
       "    }\n",
       "</style>\n",
       "<table border=\"1\" class=\"dataframe\">\n",
       "  <thead>\n",
       "    <tr style=\"text-align: right;\">\n",
       "      <th></th>\n",
       "      <th>language</th>\n",
       "      <th>problem_id</th>\n",
       "      <th>min</th>\n",
       "      <th>10%</th>\n",
       "      <th>25%</th>\n",
       "      <th>50%</th>\n",
       "      <th>75%</th>\n",
       "      <th>keys</th>\n",
       "    </tr>\n",
       "  </thead>\n",
       "  <tbody>\n",
       "    <tr>\n",
       "      <th>0</th>\n",
       "      <td>Awk (mawk 1.3.3)</td>\n",
       "      <td>abc010_2</td>\n",
       "      <td>36</td>\n",
       "      <td>37</td>\n",
       "      <td>37</td>\n",
       "      <td>37</td>\n",
       "      <td>37</td>\n",
       "      <td>Awk (mawk 1.3.3)abc010_2</td>\n",
       "    </tr>\n",
       "    <tr>\n",
       "      <th>1</th>\n",
       "      <td>Awk (mawk 1.3.3)</td>\n",
       "      <td>abc015_1</td>\n",
       "      <td>36</td>\n",
       "      <td>36</td>\n",
       "      <td>36</td>\n",
       "      <td>36</td>\n",
       "      <td>36</td>\n",
       "      <td>Awk (mawk 1.3.3)abc015_1</td>\n",
       "    </tr>\n",
       "    <tr>\n",
       "      <th>2</th>\n",
       "      <td>Awk (mawk 1.3.3)</td>\n",
       "      <td>abc025_b</td>\n",
       "      <td>83</td>\n",
       "      <td>85</td>\n",
       "      <td>85</td>\n",
       "      <td>85</td>\n",
       "      <td>85</td>\n",
       "      <td>Awk (mawk 1.3.3)abc025_b</td>\n",
       "    </tr>\n",
       "    <tr>\n",
       "      <th>3</th>\n",
       "      <td>Awk (mawk 1.3.3)</td>\n",
       "      <td>abc026_b</td>\n",
       "      <td>67</td>\n",
       "      <td>67</td>\n",
       "      <td>67</td>\n",
       "      <td>67</td>\n",
       "      <td>67</td>\n",
       "      <td>Awk (mawk 1.3.3)abc026_b</td>\n",
       "    </tr>\n",
       "    <tr>\n",
       "      <th>4</th>\n",
       "      <td>Awk (mawk 1.3.3)</td>\n",
       "      <td>abc027_b</td>\n",
       "      <td>68</td>\n",
       "      <td>69</td>\n",
       "      <td>69</td>\n",
       "      <td>72</td>\n",
       "      <td>75</td>\n",
       "      <td>Awk (mawk 1.3.3)abc027_b</td>\n",
       "    </tr>\n",
       "  </tbody>\n",
       "</table>\n",
       "</div>"
      ],
      "text/plain": [
       "           language problem_id  min  10%  25%  50%  75%  \\\n",
       "0  Awk (mawk 1.3.3)   abc010_2   36   37   37   37   37   \n",
       "1  Awk (mawk 1.3.3)   abc015_1   36   36   36   36   36   \n",
       "2  Awk (mawk 1.3.3)   abc025_b   83   85   85   85   85   \n",
       "3  Awk (mawk 1.3.3)   abc026_b   67   67   67   67   67   \n",
       "4  Awk (mawk 1.3.3)   abc027_b   68   69   69   72   75   \n",
       "\n",
       "                       keys  \n",
       "0  Awk (mawk 1.3.3)abc010_2  \n",
       "1  Awk (mawk 1.3.3)abc015_1  \n",
       "2  Awk (mawk 1.3.3)abc025_b  \n",
       "3  Awk (mawk 1.3.3)abc026_b  \n",
       "4  Awk (mawk 1.3.3)abc027_b  "
      ]
     },
     "execution_count": 88,
     "metadata": {},
     "output_type": "execute_result"
    }
   ],
   "source": [
    "length_statistics.head()"
   ]
  },
  {
   "cell_type": "code",
   "execution_count": 31,
   "metadata": {},
   "outputs": [],
   "source": [
    "length_dict = length_statistics.to_dict(orient='index')\n",
    "exec_dict = exec_statistics.to_dict(orient='index')"
   ]
  },
  {
   "cell_type": "code",
   "execution_count": 47,
   "metadata": {},
   "outputs": [],
   "source": [
    "lang = user_info['language'].values.reshape([-1, 1])"
   ]
  },
  {
   "cell_type": "code",
   "execution_count": 48,
   "metadata": {},
   "outputs": [],
   "source": [
    "prob = user_info['problem_id'].values.reshape([-1, 1])"
   ]
  },
  {
   "cell_type": "code",
   "execution_count": 62,
   "metadata": {},
   "outputs": [],
   "source": [
    "keys = np.hstack([lang, prob])"
   ]
  },
  {
   "cell_type": "code",
   "execution_count": 63,
   "metadata": {},
   "outputs": [
    {
     "data": {
      "text/plain": [
       "array([['C++ (GCC 9.2.1)', 'abc164_a'],\n",
       "       ['C++ (GCC 9.2.1)', 'abc164_c'],\n",
       "       ['C++14 (GCC 5.4.1)', 'abc137_c'],\n",
       "       ...,\n",
       "       ['PyPy3 (2.4.0)', 'abc139_a'],\n",
       "       ['PyPy3 (2.4.0)', 'abc139_b'],\n",
       "       ['Python3 (3.4.3)', 'arc080_a']], dtype=object)"
      ]
     },
     "execution_count": 63,
     "metadata": {},
     "output_type": "execute_result"
    }
   ],
   "source": [
    "keys"
   ]
  },
  {
   "cell_type": "code",
   "execution_count": 64,
   "metadata": {},
   "outputs": [],
   "source": [
    "keys = np.array(tuple(map(tuple, keys)))"
   ]
  },
  {
   "cell_type": "code",
   "execution_count": 65,
   "metadata": {},
   "outputs": [
    {
     "data": {
      "text/plain": [
       "array([['C++ (GCC 9.2.1)', 'abc164_a'],\n",
       "       ['C++ (GCC 9.2.1)', 'abc164_c'],\n",
       "       ['C++14 (GCC 5.4.1)', 'abc137_c'],\n",
       "       ...,\n",
       "       ['PyPy3 (2.4.0)', 'abc139_a'],\n",
       "       ['PyPy3 (2.4.0)', 'abc139_b'],\n",
       "       ['Python3 (3.4.3)', 'arc080_a']], dtype='<U37')"
      ]
     },
     "execution_count": 65,
     "metadata": {},
     "output_type": "execute_result"
    }
   ],
   "source": [
    "keys"
   ]
  },
  {
   "cell_type": "code",
   "execution_count": 43,
   "metadata": {},
   "outputs": [],
   "source": [
    "keys = keys.reshape([-1, 2])"
   ]
  },
  {
   "cell_type": "code",
   "execution_count": 44,
   "metadata": {},
   "outputs": [
    {
     "data": {
      "text/plain": [
       "array([['C++ (GCC 9.2.1)', 'C++ (GCC 9.2.1)'],\n",
       "       ['C++14 (GCC 5.4.1)', 'Python3 (3.4.3)'],\n",
       "       ['Python3 (3.4.3)', 'Python3 (3.4.3)'],\n",
       "       ...,\n",
       "       ['abc140_d', 'abc143_a'],\n",
       "       ['agc009_c', 'abc139_a'],\n",
       "       ['abc139_b', 'arc080_a']], dtype=object)"
      ]
     },
     "execution_count": 44,
     "metadata": {},
     "output_type": "execute_result"
    }
   ],
   "source": [
    "keys"
   ]
  },
  {
   "cell_type": "code",
   "execution_count": 29,
   "metadata": {},
   "outputs": [],
   "source": [
    "length_scores = []\n",
    "exec_scores = []\n",
    "\n",
    "for idx, row in user_info.iterrows():\n",
    "    language = row['language']\n",
    "    problem_id = row['problem_id']\n",
    "    length = row['length']\n",
    "    exec_time = row['execution_time']\n",
    "    \n",
    "    length_border = length_statistics.loc[language, problem_id]\n",
    "    exec_border = exec_statistics.loc[language, problem_id]\n",
    "    \n",
    "    length_score = get_score(length, length_border)\n",
    "    exec_score = get_score(exec_time, exec_border)\n",
    "    \n",
    "    length_scores.append(length_score)\n",
    "    exec_scores.append(exec_score)    "
   ]
  },
  {
   "cell_type": "code",
   "execution_count": 30,
   "metadata": {},
   "outputs": [],
   "source": [
    "user_info['length_score'] = length_scores"
   ]
  },
  {
   "cell_type": "code",
   "execution_count": 31,
   "metadata": {},
   "outputs": [],
   "source": [
    "user_info['exec_score'] = exec_scores"
   ]
  },
  {
   "cell_type": "code",
   "execution_count": 32,
   "metadata": {},
   "outputs": [
    {
     "data": {
      "text/html": [
       "<div>\n",
       "<style scoped>\n",
       "    .dataframe tbody tr th:only-of-type {\n",
       "        vertical-align: middle;\n",
       "    }\n",
       "\n",
       "    .dataframe tbody tr th {\n",
       "        vertical-align: top;\n",
       "    }\n",
       "\n",
       "    .dataframe thead th {\n",
       "        text-align: right;\n",
       "    }\n",
       "</style>\n",
       "<table border=\"1\" class=\"dataframe\">\n",
       "  <thead>\n",
       "    <tr style=\"text-align: right;\">\n",
       "      <th></th>\n",
       "      <th>user_id</th>\n",
       "      <th>language</th>\n",
       "      <th>problem_id</th>\n",
       "      <th>length</th>\n",
       "      <th>execution_time</th>\n",
       "      <th>length_score</th>\n",
       "      <th>exec_score</th>\n",
       "    </tr>\n",
       "  </thead>\n",
       "  <tbody>\n",
       "    <tr>\n",
       "      <th>0</th>\n",
       "      <td>714zcy</td>\n",
       "      <td>C++ (GCC 9.2.1)</td>\n",
       "      <td>abc164_a</td>\n",
       "      <td>311</td>\n",
       "      <td>2</td>\n",
       "      <td>2</td>\n",
       "      <td>5</td>\n",
       "    </tr>\n",
       "    <tr>\n",
       "      <th>1</th>\n",
       "      <td>714zcy</td>\n",
       "      <td>C++ (GCC 9.2.1)</td>\n",
       "      <td>abc164_c</td>\n",
       "      <td>369</td>\n",
       "      <td>195</td>\n",
       "      <td>3</td>\n",
       "      <td>1</td>\n",
       "    </tr>\n",
       "    <tr>\n",
       "      <th>2</th>\n",
       "      <td>A0iro</td>\n",
       "      <td>C++14 (GCC 5.4.1)</td>\n",
       "      <td>abc137_c</td>\n",
       "      <td>574</td>\n",
       "      <td>168</td>\n",
       "      <td>3</td>\n",
       "      <td>2</td>\n",
       "    </tr>\n",
       "    <tr>\n",
       "      <th>3</th>\n",
       "      <td>A1phamath</td>\n",
       "      <td>Python3 (3.4.3)</td>\n",
       "      <td>abc135_a</td>\n",
       "      <td>218</td>\n",
       "      <td>17</td>\n",
       "      <td>1</td>\n",
       "      <td>5</td>\n",
       "    </tr>\n",
       "    <tr>\n",
       "      <th>4</th>\n",
       "      <td>A1phamath</td>\n",
       "      <td>Python3 (3.4.3)</td>\n",
       "      <td>abc139_d</td>\n",
       "      <td>42</td>\n",
       "      <td>17</td>\n",
       "      <td>3</td>\n",
       "      <td>5</td>\n",
       "    </tr>\n",
       "  </tbody>\n",
       "</table>\n",
       "</div>"
      ],
      "text/plain": [
       "     user_id           language problem_id  length  execution_time  \\\n",
       "0     714zcy    C++ (GCC 9.2.1)   abc164_a     311               2   \n",
       "1     714zcy    C++ (GCC 9.2.1)   abc164_c     369             195   \n",
       "2      A0iro  C++14 (GCC 5.4.1)   abc137_c     574             168   \n",
       "3  A1phamath    Python3 (3.4.3)   abc135_a     218              17   \n",
       "4  A1phamath    Python3 (3.4.3)   abc139_d      42              17   \n",
       "\n",
       "   length_score  exec_score  \n",
       "0             2           5  \n",
       "1             3           1  \n",
       "2             3           2  \n",
       "3             1           5  \n",
       "4             3           5  "
      ]
     },
     "execution_count": 32,
     "metadata": {},
     "output_type": "execute_result"
    }
   ],
   "source": [
    "user_info.head()"
   ]
  },
  {
   "cell_type": "code",
   "execution_count": 33,
   "metadata": {},
   "outputs": [],
   "source": [
    "user_status = user_info.loc[:, ['user_id', 'language', 'length_score', 'exec_score']]"
   ]
  },
  {
   "cell_type": "code",
   "execution_count": 34,
   "metadata": {},
   "outputs": [
    {
     "data": {
      "text/html": [
       "<div>\n",
       "<style scoped>\n",
       "    .dataframe tbody tr th:only-of-type {\n",
       "        vertical-align: middle;\n",
       "    }\n",
       "\n",
       "    .dataframe tbody tr th {\n",
       "        vertical-align: top;\n",
       "    }\n",
       "\n",
       "    .dataframe thead th {\n",
       "        text-align: right;\n",
       "    }\n",
       "</style>\n",
       "<table border=\"1\" class=\"dataframe\">\n",
       "  <thead>\n",
       "    <tr style=\"text-align: right;\">\n",
       "      <th></th>\n",
       "      <th>user_id</th>\n",
       "      <th>language</th>\n",
       "      <th>length_score</th>\n",
       "      <th>exec_score</th>\n",
       "    </tr>\n",
       "  </thead>\n",
       "  <tbody>\n",
       "    <tr>\n",
       "      <th>0</th>\n",
       "      <td>714zcy</td>\n",
       "      <td>C++ (GCC 9.2.1)</td>\n",
       "      <td>2</td>\n",
       "      <td>5</td>\n",
       "    </tr>\n",
       "    <tr>\n",
       "      <th>1</th>\n",
       "      <td>714zcy</td>\n",
       "      <td>C++ (GCC 9.2.1)</td>\n",
       "      <td>3</td>\n",
       "      <td>1</td>\n",
       "    </tr>\n",
       "    <tr>\n",
       "      <th>2</th>\n",
       "      <td>A0iro</td>\n",
       "      <td>C++14 (GCC 5.4.1)</td>\n",
       "      <td>3</td>\n",
       "      <td>2</td>\n",
       "    </tr>\n",
       "    <tr>\n",
       "      <th>3</th>\n",
       "      <td>A1phamath</td>\n",
       "      <td>Python3 (3.4.3)</td>\n",
       "      <td>1</td>\n",
       "      <td>5</td>\n",
       "    </tr>\n",
       "    <tr>\n",
       "      <th>4</th>\n",
       "      <td>A1phamath</td>\n",
       "      <td>Python3 (3.4.3)</td>\n",
       "      <td>3</td>\n",
       "      <td>5</td>\n",
       "    </tr>\n",
       "  </tbody>\n",
       "</table>\n",
       "</div>"
      ],
      "text/plain": [
       "     user_id           language  length_score  exec_score\n",
       "0     714zcy    C++ (GCC 9.2.1)             2           5\n",
       "1     714zcy    C++ (GCC 9.2.1)             3           1\n",
       "2      A0iro  C++14 (GCC 5.4.1)             3           2\n",
       "3  A1phamath    Python3 (3.4.3)             1           5\n",
       "4  A1phamath    Python3 (3.4.3)             3           5"
      ]
     },
     "execution_count": 34,
     "metadata": {},
     "output_type": "execute_result"
    }
   ],
   "source": [
    "user_status.head()"
   ]
  },
  {
   "cell_type": "code",
   "execution_count": 35,
   "metadata": {},
   "outputs": [],
   "source": [
    "user_scores = user_status.groupby(['user_id', 'language'], as_index=False).sum()\n",
    "user_ac_count = user_status.groupby(['user_id', 'language'], as_index=False).count()"
   ]
  },
  {
   "cell_type": "code",
   "execution_count": 36,
   "metadata": {},
   "outputs": [],
   "source": [
    "user_scores['ac_count'] = user_ac_count['length_score'].values"
   ]
  },
  {
   "cell_type": "code",
   "execution_count": 37,
   "metadata": {},
   "outputs": [],
   "source": [
    "user_scores['length_ave'] = user_scores['length_score'] / user_scores['ac_count']\n",
    "user_scores['exec_ave'] = user_scores['exec_score'] / user_scores['ac_count']"
   ]
  },
  {
   "cell_type": "code",
   "execution_count": 38,
   "metadata": {},
   "outputs": [
    {
     "data": {
      "text/html": [
       "<div>\n",
       "<style scoped>\n",
       "    .dataframe tbody tr th:only-of-type {\n",
       "        vertical-align: middle;\n",
       "    }\n",
       "\n",
       "    .dataframe tbody tr th {\n",
       "        vertical-align: top;\n",
       "    }\n",
       "\n",
       "    .dataframe thead th {\n",
       "        text-align: right;\n",
       "    }\n",
       "</style>\n",
       "<table border=\"1\" class=\"dataframe\">\n",
       "  <thead>\n",
       "    <tr style=\"text-align: right;\">\n",
       "      <th></th>\n",
       "      <th>user_id</th>\n",
       "      <th>language</th>\n",
       "      <th>length_score</th>\n",
       "      <th>exec_score</th>\n",
       "      <th>ac_count</th>\n",
       "      <th>length_ave</th>\n",
       "      <th>exec_ave</th>\n",
       "    </tr>\n",
       "  </thead>\n",
       "  <tbody>\n",
       "    <tr>\n",
       "      <th>0</th>\n",
       "      <td>714zcy</td>\n",
       "      <td>C++ (GCC 9.2.1)</td>\n",
       "      <td>5</td>\n",
       "      <td>6</td>\n",
       "      <td>2</td>\n",
       "      <td>2.50</td>\n",
       "      <td>3.0</td>\n",
       "    </tr>\n",
       "    <tr>\n",
       "      <th>1</th>\n",
       "      <td>A0iro</td>\n",
       "      <td>C++14 (GCC 5.4.1)</td>\n",
       "      <td>3</td>\n",
       "      <td>2</td>\n",
       "      <td>1</td>\n",
       "      <td>3.00</td>\n",
       "      <td>2.0</td>\n",
       "    </tr>\n",
       "    <tr>\n",
       "      <th>2</th>\n",
       "      <td>A1phamath</td>\n",
       "      <td>Python3 (3.4.3)</td>\n",
       "      <td>4</td>\n",
       "      <td>10</td>\n",
       "      <td>2</td>\n",
       "      <td>2.00</td>\n",
       "      <td>5.0</td>\n",
       "    </tr>\n",
       "    <tr>\n",
       "      <th>3</th>\n",
       "      <td>A2412</td>\n",
       "      <td>Python3 (3.4.3)</td>\n",
       "      <td>3</td>\n",
       "      <td>10</td>\n",
       "      <td>2</td>\n",
       "      <td>1.50</td>\n",
       "      <td>5.0</td>\n",
       "    </tr>\n",
       "    <tr>\n",
       "      <th>4</th>\n",
       "      <td>A7075</td>\n",
       "      <td>C++14 (GCC 5.4.1)</td>\n",
       "      <td>19</td>\n",
       "      <td>20</td>\n",
       "      <td>4</td>\n",
       "      <td>4.75</td>\n",
       "      <td>5.0</td>\n",
       "    </tr>\n",
       "  </tbody>\n",
       "</table>\n",
       "</div>"
      ],
      "text/plain": [
       "     user_id           language  length_score  exec_score  ac_count  \\\n",
       "0     714zcy    C++ (GCC 9.2.1)             5           6         2   \n",
       "1      A0iro  C++14 (GCC 5.4.1)             3           2         1   \n",
       "2  A1phamath    Python3 (3.4.3)             4          10         2   \n",
       "3      A2412    Python3 (3.4.3)             3          10         2   \n",
       "4      A7075  C++14 (GCC 5.4.1)            19          20         4   \n",
       "\n",
       "   length_ave  exec_ave  \n",
       "0        2.50       3.0  \n",
       "1        3.00       2.0  \n",
       "2        2.00       5.0  \n",
       "3        1.50       5.0  \n",
       "4        4.75       5.0  "
      ]
     },
     "execution_count": 38,
     "metadata": {},
     "output_type": "execute_result"
    }
   ],
   "source": [
    "user_scores.head()"
   ]
  },
  {
   "cell_type": "code",
   "execution_count": 44,
   "metadata": {},
   "outputs": [],
   "source": [
    "user_scores.drop(['length_ave', 'exec_ave'], axis=1).to_csv('./user_rankings.csv', index=False, header=False)"
   ]
  }
 ],
 "metadata": {
  "kernelspec": {
   "display_name": "Python 3",
   "language": "python",
   "name": "python3"
  },
  "language_info": {
   "codemirror_mode": {
    "name": "ipython",
    "version": 3
   },
   "file_extension": ".py",
   "mimetype": "text/x-python",
   "name": "python",
   "nbconvert_exporter": "python",
   "pygments_lexer": "ipython3",
   "version": "3.8.2"
  }
 },
 "nbformat": 4,
 "nbformat_minor": 4
}
